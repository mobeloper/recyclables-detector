{
 "cells": [
  {
   "cell_type": "markdown",
   "metadata": {
    "id": "SsIv6LYT84gm"
   },
   "source": [
    "# Conversion of COCO annotation JSON file to TFRecords"
   ]
  },
  {
   "cell_type": "markdown",
   "metadata": {},
   "source": [
    "The COCO file and dataset is converted to the TFRecord format for faster training."
   ]
  },
  {
   "cell_type": "markdown",
   "metadata": {
    "id": "zl7o2xEW9IbX"
   },
   "source": [
    "Given a COCO annotated JSON file, your goal is to convert it into a TFRecords  file necessary to train with the Mask RCNN model.\n",
    "\n",
    "To accomplish this task, you will clone the TensorFlow Model Garden repo. The TensorFlow Model Garden is a repository with a number of different implementations of state-of-the-art (SOTA) models and modeling solutions for TensorFlow users.\n",
    "\n",
    "This notebook is an end to end example. When you run the notebook, it will take COCO annotated JSON train and test files as an input and will convert them into TFRecord files. You can also output sharded TFRecord files in case your training and validation data is huge. It makes it easier for the algorithm to read and access the data."
   ]
  },
  {
   "cell_type": "markdown",
   "metadata": {
    "id": "g3OHfWQBpYVB"
   },
   "source": [
    "**Note** - In this example, we assume that all our data is saved on Google drive and we will also write our outputs to Google drive. We also assume that the script will be used as a Google Colab notebook. But this can be changed according to the needs of users. They can modify this in case they are working on their local workstation, remote server or any other database. This colab notebook can be changed to a regular jupyter notebook running on a local machine according to the need of the users."
   ]
  },
  {
   "cell_type": "markdown",
   "metadata": {
    "id": "CRwVTTPuED_1"
   },
   "source": [
    "## Run the below command to connect to your google drive"
   ]
  },
  {
   "cell_type": "code",
   "execution_count": 1,
   "metadata": {
    "colab": {
     "base_uri": "https://localhost:8080/"
    },
    "executionInfo": {
     "elapsed": 60900,
     "status": "ok",
     "timestamp": 1741617458075,
     "user": {
      "displayName": "Eric Michel",
      "userId": "07377475876706265937"
     },
     "user_tz": 420
    },
    "id": "pnsra7Zf0uGe",
    "outputId": "ba23ce73-ffbb-4cbf-e93d-9bb8c4f5c59b"
   },
   "outputs": [
    {
     "name": "stdout",
     "output_type": "stream",
     "text": [
      "Requirement already satisfied: tensorflow in /opt/anaconda3/envs/ipykernel_py3/lib/python3.12/site-packages (2.16.1)\n",
      "Requirement already satisfied: absl-py>=1.0.0 in /opt/anaconda3/envs/ipykernel_py3/lib/python3.12/site-packages (from tensorflow) (2.1.0)\n",
      "Requirement already satisfied: astunparse>=1.6.0 in /opt/anaconda3/envs/ipykernel_py3/lib/python3.12/site-packages (from tensorflow) (1.6.3)\n",
      "Requirement already satisfied: flatbuffers>=23.5.26 in /opt/anaconda3/envs/ipykernel_py3/lib/python3.12/site-packages (from tensorflow) (24.3.25)\n",
      "Requirement already satisfied: gast!=0.5.0,!=0.5.1,!=0.5.2,>=0.2.1 in /opt/anaconda3/envs/ipykernel_py3/lib/python3.12/site-packages (from tensorflow) (0.5.4)\n",
      "Requirement already satisfied: google-pasta>=0.1.1 in /opt/anaconda3/envs/ipykernel_py3/lib/python3.12/site-packages (from tensorflow) (0.2.0)\n",
      "Requirement already satisfied: h5py>=3.10.0 in /opt/anaconda3/envs/ipykernel_py3/lib/python3.12/site-packages (from tensorflow) (3.11.0)\n",
      "Requirement already satisfied: libclang>=13.0.0 in /opt/anaconda3/envs/ipykernel_py3/lib/python3.12/site-packages (from tensorflow) (18.1.1)\n",
      "Requirement already satisfied: ml-dtypes~=0.3.1 in /opt/anaconda3/envs/ipykernel_py3/lib/python3.12/site-packages (from tensorflow) (0.3.2)\n",
      "Requirement already satisfied: opt-einsum>=2.3.2 in /opt/anaconda3/envs/ipykernel_py3/lib/python3.12/site-packages (from tensorflow) (3.3.0)\n",
      "Requirement already satisfied: packaging in /opt/anaconda3/envs/ipykernel_py3/lib/python3.12/site-packages (from tensorflow) (23.2)\n",
      "Requirement already satisfied: protobuf!=4.21.0,!=4.21.1,!=4.21.2,!=4.21.3,!=4.21.4,!=4.21.5,<5.0.0dev,>=3.20.3 in /opt/anaconda3/envs/ipykernel_py3/lib/python3.12/site-packages (from tensorflow) (4.25.3)\n",
      "Requirement already satisfied: requests<3,>=2.21.0 in /opt/anaconda3/envs/ipykernel_py3/lib/python3.12/site-packages (from tensorflow) (2.32.3)\n",
      "Requirement already satisfied: setuptools in /opt/anaconda3/envs/ipykernel_py3/lib/python3.12/site-packages (from tensorflow) (68.2.2)\n",
      "Requirement already satisfied: six>=1.12.0 in /opt/anaconda3/envs/ipykernel_py3/lib/python3.12/site-packages (from tensorflow) (1.16.0)\n",
      "Requirement already satisfied: termcolor>=1.1.0 in /opt/anaconda3/envs/ipykernel_py3/lib/python3.12/site-packages (from tensorflow) (2.4.0)\n",
      "Requirement already satisfied: typing-extensions>=3.6.6 in /opt/anaconda3/envs/ipykernel_py3/lib/python3.12/site-packages (from tensorflow) (4.11.0)\n",
      "Requirement already satisfied: wrapt>=1.11.0 in /opt/anaconda3/envs/ipykernel_py3/lib/python3.12/site-packages (from tensorflow) (1.16.0)\n",
      "Requirement already satisfied: grpcio<2.0,>=1.24.3 in /opt/anaconda3/envs/ipykernel_py3/lib/python3.12/site-packages (from tensorflow) (1.63.0)\n",
      "Requirement already satisfied: tensorboard<2.17,>=2.16 in /opt/anaconda3/envs/ipykernel_py3/lib/python3.12/site-packages (from tensorflow) (2.16.2)\n",
      "Requirement already satisfied: keras>=3.0.0 in /opt/anaconda3/envs/ipykernel_py3/lib/python3.12/site-packages (from tensorflow) (3.3.3)\n",
      "Requirement already satisfied: numpy<2.0.0,>=1.26.0 in /opt/anaconda3/envs/ipykernel_py3/lib/python3.12/site-packages (from tensorflow) (1.26.4)\n",
      "Requirement already satisfied: wheel<1.0,>=0.23.0 in /opt/anaconda3/envs/ipykernel_py3/lib/python3.12/site-packages (from astunparse>=1.6.0->tensorflow) (0.41.2)\n",
      "Requirement already satisfied: rich in /opt/anaconda3/envs/ipykernel_py3/lib/python3.12/site-packages (from keras>=3.0.0->tensorflow) (13.7.1)\n",
      "Requirement already satisfied: namex in /opt/anaconda3/envs/ipykernel_py3/lib/python3.12/site-packages (from keras>=3.0.0->tensorflow) (0.0.8)\n",
      "Requirement already satisfied: optree in /opt/anaconda3/envs/ipykernel_py3/lib/python3.12/site-packages (from keras>=3.0.0->tensorflow) (0.11.0)\n",
      "Requirement already satisfied: charset-normalizer<4,>=2 in /opt/anaconda3/envs/ipykernel_py3/lib/python3.12/site-packages (from requests<3,>=2.21.0->tensorflow) (3.3.2)\n",
      "Requirement already satisfied: idna<4,>=2.5 in /opt/anaconda3/envs/ipykernel_py3/lib/python3.12/site-packages (from requests<3,>=2.21.0->tensorflow) (3.7)\n",
      "Requirement already satisfied: urllib3<3,>=1.21.1 in /opt/anaconda3/envs/ipykernel_py3/lib/python3.12/site-packages (from requests<3,>=2.21.0->tensorflow) (2.2.1)\n",
      "Requirement already satisfied: certifi>=2017.4.17 in /opt/anaconda3/envs/ipykernel_py3/lib/python3.12/site-packages (from requests<3,>=2.21.0->tensorflow) (2024.2.2)\n",
      "Requirement already satisfied: markdown>=2.6.8 in /opt/anaconda3/envs/ipykernel_py3/lib/python3.12/site-packages (from tensorboard<2.17,>=2.16->tensorflow) (3.6)\n",
      "Requirement already satisfied: tensorboard-data-server<0.8.0,>=0.7.0 in /opt/anaconda3/envs/ipykernel_py3/lib/python3.12/site-packages (from tensorboard<2.17,>=2.16->tensorflow) (0.7.2)\n",
      "Requirement already satisfied: werkzeug>=1.0.1 in /opt/anaconda3/envs/ipykernel_py3/lib/python3.12/site-packages (from tensorboard<2.17,>=2.16->tensorflow) (3.0.3)\n",
      "Requirement already satisfied: MarkupSafe>=2.1.1 in /opt/anaconda3/envs/ipykernel_py3/lib/python3.12/site-packages (from werkzeug>=1.0.1->tensorboard<2.17,>=2.16->tensorflow) (2.1.5)\n",
      "Requirement already satisfied: markdown-it-py>=2.2.0 in /opt/anaconda3/envs/ipykernel_py3/lib/python3.12/site-packages (from rich->keras>=3.0.0->tensorflow) (2.2.0)\n",
      "Requirement already satisfied: pygments<3.0.0,>=2.13.0 in /opt/anaconda3/envs/ipykernel_py3/lib/python3.12/site-packages (from rich->keras>=3.0.0->tensorflow) (2.15.1)\n",
      "Requirement already satisfied: mdurl~=0.1 in /opt/anaconda3/envs/ipykernel_py3/lib/python3.12/site-packages (from markdown-it-py>=2.2.0->rich->keras>=3.0.0->tensorflow) (0.1.2)\n",
      "Requirement already satisfied: tf-keras in /opt/anaconda3/envs/ipykernel_py3/lib/python3.12/site-packages (2.16.0)\n",
      "Requirement already satisfied: tensorflow<2.17,>=2.16 in /opt/anaconda3/envs/ipykernel_py3/lib/python3.12/site-packages (from tf-keras) (2.16.1)\n",
      "Requirement already satisfied: absl-py>=1.0.0 in /opt/anaconda3/envs/ipykernel_py3/lib/python3.12/site-packages (from tensorflow<2.17,>=2.16->tf-keras) (2.1.0)\n",
      "Requirement already satisfied: astunparse>=1.6.0 in /opt/anaconda3/envs/ipykernel_py3/lib/python3.12/site-packages (from tensorflow<2.17,>=2.16->tf-keras) (1.6.3)\n",
      "Requirement already satisfied: flatbuffers>=23.5.26 in /opt/anaconda3/envs/ipykernel_py3/lib/python3.12/site-packages (from tensorflow<2.17,>=2.16->tf-keras) (24.3.25)\n",
      "Requirement already satisfied: gast!=0.5.0,!=0.5.1,!=0.5.2,>=0.2.1 in /opt/anaconda3/envs/ipykernel_py3/lib/python3.12/site-packages (from tensorflow<2.17,>=2.16->tf-keras) (0.5.4)\n",
      "Requirement already satisfied: google-pasta>=0.1.1 in /opt/anaconda3/envs/ipykernel_py3/lib/python3.12/site-packages (from tensorflow<2.17,>=2.16->tf-keras) (0.2.0)\n",
      "Requirement already satisfied: h5py>=3.10.0 in /opt/anaconda3/envs/ipykernel_py3/lib/python3.12/site-packages (from tensorflow<2.17,>=2.16->tf-keras) (3.11.0)\n",
      "Requirement already satisfied: libclang>=13.0.0 in /opt/anaconda3/envs/ipykernel_py3/lib/python3.12/site-packages (from tensorflow<2.17,>=2.16->tf-keras) (18.1.1)\n",
      "Requirement already satisfied: ml-dtypes~=0.3.1 in /opt/anaconda3/envs/ipykernel_py3/lib/python3.12/site-packages (from tensorflow<2.17,>=2.16->tf-keras) (0.3.2)\n",
      "Requirement already satisfied: opt-einsum>=2.3.2 in /opt/anaconda3/envs/ipykernel_py3/lib/python3.12/site-packages (from tensorflow<2.17,>=2.16->tf-keras) (3.3.0)\n",
      "Requirement already satisfied: packaging in /opt/anaconda3/envs/ipykernel_py3/lib/python3.12/site-packages (from tensorflow<2.17,>=2.16->tf-keras) (23.2)\n",
      "Requirement already satisfied: protobuf!=4.21.0,!=4.21.1,!=4.21.2,!=4.21.3,!=4.21.4,!=4.21.5,<5.0.0dev,>=3.20.3 in /opt/anaconda3/envs/ipykernel_py3/lib/python3.12/site-packages (from tensorflow<2.17,>=2.16->tf-keras) (4.25.3)\n",
      "Requirement already satisfied: requests<3,>=2.21.0 in /opt/anaconda3/envs/ipykernel_py3/lib/python3.12/site-packages (from tensorflow<2.17,>=2.16->tf-keras) (2.32.3)\n",
      "Requirement already satisfied: setuptools in /opt/anaconda3/envs/ipykernel_py3/lib/python3.12/site-packages (from tensorflow<2.17,>=2.16->tf-keras) (68.2.2)\n",
      "Requirement already satisfied: six>=1.12.0 in /opt/anaconda3/envs/ipykernel_py3/lib/python3.12/site-packages (from tensorflow<2.17,>=2.16->tf-keras) (1.16.0)\n",
      "Requirement already satisfied: termcolor>=1.1.0 in /opt/anaconda3/envs/ipykernel_py3/lib/python3.12/site-packages (from tensorflow<2.17,>=2.16->tf-keras) (2.4.0)\n",
      "Requirement already satisfied: typing-extensions>=3.6.6 in /opt/anaconda3/envs/ipykernel_py3/lib/python3.12/site-packages (from tensorflow<2.17,>=2.16->tf-keras) (4.11.0)\n",
      "Requirement already satisfied: wrapt>=1.11.0 in /opt/anaconda3/envs/ipykernel_py3/lib/python3.12/site-packages (from tensorflow<2.17,>=2.16->tf-keras) (1.16.0)\n",
      "Requirement already satisfied: grpcio<2.0,>=1.24.3 in /opt/anaconda3/envs/ipykernel_py3/lib/python3.12/site-packages (from tensorflow<2.17,>=2.16->tf-keras) (1.63.0)\n",
      "Requirement already satisfied: tensorboard<2.17,>=2.16 in /opt/anaconda3/envs/ipykernel_py3/lib/python3.12/site-packages (from tensorflow<2.17,>=2.16->tf-keras) (2.16.2)\n",
      "Requirement already satisfied: keras>=3.0.0 in /opt/anaconda3/envs/ipykernel_py3/lib/python3.12/site-packages (from tensorflow<2.17,>=2.16->tf-keras) (3.3.3)\n",
      "Requirement already satisfied: numpy<2.0.0,>=1.26.0 in /opt/anaconda3/envs/ipykernel_py3/lib/python3.12/site-packages (from tensorflow<2.17,>=2.16->tf-keras) (1.26.4)\n",
      "Requirement already satisfied: wheel<1.0,>=0.23.0 in /opt/anaconda3/envs/ipykernel_py3/lib/python3.12/site-packages (from astunparse>=1.6.0->tensorflow<2.17,>=2.16->tf-keras) (0.41.2)\n",
      "Requirement already satisfied: rich in /opt/anaconda3/envs/ipykernel_py3/lib/python3.12/site-packages (from keras>=3.0.0->tensorflow<2.17,>=2.16->tf-keras) (13.7.1)\n",
      "Requirement already satisfied: namex in /opt/anaconda3/envs/ipykernel_py3/lib/python3.12/site-packages (from keras>=3.0.0->tensorflow<2.17,>=2.16->tf-keras) (0.0.8)\n",
      "Requirement already satisfied: optree in /opt/anaconda3/envs/ipykernel_py3/lib/python3.12/site-packages (from keras>=3.0.0->tensorflow<2.17,>=2.16->tf-keras) (0.11.0)\n",
      "Requirement already satisfied: charset-normalizer<4,>=2 in /opt/anaconda3/envs/ipykernel_py3/lib/python3.12/site-packages (from requests<3,>=2.21.0->tensorflow<2.17,>=2.16->tf-keras) (3.3.2)\n",
      "Requirement already satisfied: idna<4,>=2.5 in /opt/anaconda3/envs/ipykernel_py3/lib/python3.12/site-packages (from requests<3,>=2.21.0->tensorflow<2.17,>=2.16->tf-keras) (3.7)\n",
      "Requirement already satisfied: urllib3<3,>=1.21.1 in /opt/anaconda3/envs/ipykernel_py3/lib/python3.12/site-packages (from requests<3,>=2.21.0->tensorflow<2.17,>=2.16->tf-keras) (2.2.1)\n",
      "Requirement already satisfied: certifi>=2017.4.17 in /opt/anaconda3/envs/ipykernel_py3/lib/python3.12/site-packages (from requests<3,>=2.21.0->tensorflow<2.17,>=2.16->tf-keras) (2024.2.2)\n",
      "Requirement already satisfied: markdown>=2.6.8 in /opt/anaconda3/envs/ipykernel_py3/lib/python3.12/site-packages (from tensorboard<2.17,>=2.16->tensorflow<2.17,>=2.16->tf-keras) (3.6)\n",
      "Requirement already satisfied: tensorboard-data-server<0.8.0,>=0.7.0 in /opt/anaconda3/envs/ipykernel_py3/lib/python3.12/site-packages (from tensorboard<2.17,>=2.16->tensorflow<2.17,>=2.16->tf-keras) (0.7.2)\n",
      "Requirement already satisfied: werkzeug>=1.0.1 in /opt/anaconda3/envs/ipykernel_py3/lib/python3.12/site-packages (from tensorboard<2.17,>=2.16->tensorflow<2.17,>=2.16->tf-keras) (3.0.3)\n",
      "Requirement already satisfied: MarkupSafe>=2.1.1 in /opt/anaconda3/envs/ipykernel_py3/lib/python3.12/site-packages (from werkzeug>=1.0.1->tensorboard<2.17,>=2.16->tensorflow<2.17,>=2.16->tf-keras) (2.1.5)\n",
      "Requirement already satisfied: markdown-it-py>=2.2.0 in /opt/anaconda3/envs/ipykernel_py3/lib/python3.12/site-packages (from rich->keras>=3.0.0->tensorflow<2.17,>=2.16->tf-keras) (2.2.0)\n",
      "Requirement already satisfied: pygments<3.0.0,>=2.13.0 in /opt/anaconda3/envs/ipykernel_py3/lib/python3.12/site-packages (from rich->keras>=3.0.0->tensorflow<2.17,>=2.16->tf-keras) (2.15.1)\n",
      "Requirement already satisfied: mdurl~=0.1 in /opt/anaconda3/envs/ipykernel_py3/lib/python3.12/site-packages (from markdown-it-py>=2.2.0->rich->keras>=3.0.0->tensorflow<2.17,>=2.16->tf-keras) (0.1.2)\n",
      "Requirement already satisfied: gin-config in /opt/anaconda3/envs/ipykernel_py3/lib/python3.12/site-packages (0.5.0)\n",
      "\u001b[31mERROR: Could not find a version that satisfies the requirement tensorflow-addons (from versions: none)\u001b[0m\u001b[31m\n",
      "\u001b[0m\u001b[31mERROR: No matching distribution found for tensorflow-addons\u001b[0m\u001b[31m\n",
      "\u001b[0m"
     ]
    }
   ],
   "source": [
    "# !pip install -q tf-nightly\n",
    "!pip install tensorflow\n",
    "!pip install tf-keras\n",
    "!pip install gin-config\n",
    "!pip install -q tensorflow-addons"
   ]
  },
  {
   "cell_type": "code",
   "execution_count": 2,
   "metadata": {},
   "outputs": [],
   "source": [
    "!pip install -q pycocotools"
   ]
  },
  {
   "cell_type": "code",
   "execution_count": 3,
   "metadata": {},
   "outputs": [
    {
     "name": "stderr",
     "output_type": "stream",
     "text": [
      "2025-04-30 18:26:52.612414: I tensorflow/core/platform/cpu_feature_guard.cc:210] This TensorFlow binary is optimized to use available CPU instructions in performance-critical operations.\n",
      "To enable the following instructions: AVX2 FMA, in other operations, rebuild TensorFlow with the appropriate compiler flags.\n"
     ]
    }
   ],
   "source": [
    "import sys\n",
    "\n",
    "import tensorflow as tf\n",
    "from tensorflow import keras"
   ]
  },
  {
   "cell_type": "code",
   "execution_count": 4,
   "metadata": {
    "executionInfo": {
     "elapsed": 4,
     "status": "ok",
     "timestamp": 1741617464405,
     "user": {
      "displayName": "Eric Michel",
      "userId": "07377475876706265937"
     },
     "user_tz": 420
    },
    "id": "bBN0CZWlD7zl"
   },
   "outputs": [],
   "source": [
    "# # import libraries\n",
    "# from google.colab import drive\n",
    "# "
   ]
  },
  {
   "cell_type": "code",
   "execution_count": 5,
   "metadata": {
    "colab": {
     "base_uri": "https://localhost:8080/"
    },
    "executionInfo": {
     "elapsed": 23936,
     "status": "ok",
     "timestamp": 1741617501527,
     "user": {
      "displayName": "Eric Michel",
      "userId": "07377475876706265937"
     },
     "user_tz": 420
    },
    "id": "i80tEP0pEJif",
    "outputId": "b2869258-9b75-4d21-f251-577365afa012"
   },
   "outputs": [],
   "source": [
    "# # connect to google drive\n",
    "# drive.mount('/content/gdrive')\n",
    "\n",
    "# # making an alias for the root path\n",
    "# try:\n",
    "#   !ln -s /content/gdrive/My\\ Drive/ /mydrive\n",
    "#   print('Successful')\n",
    "# except Exception as e:\n",
    "#   print(e)\n",
    "#   print('Not successful')"
   ]
  },
  {
   "cell_type": "code",
   "execution_count": 4,
   "metadata": {
    "colab": {
     "base_uri": "https://localhost:8080/"
    },
    "executionInfo": {
     "elapsed": 5754,
     "status": "ok",
     "timestamp": 1741617474359,
     "user": {
      "displayName": "Eric Michel",
      "userId": "07377475876706265937"
     },
     "user_tz": 420
    },
    "id": "z5HNdeBp0x3G",
    "outputId": "e04a61fc-273b-45ae-9777-145995298639"
   },
   "outputs": [],
   "source": [
    "# \"opencv-python-headless\" version should be same of \"opencv-python\"\n",
    "import pkg_resources\n",
    "version_number = pkg_resources.get_distribution(\"opencv-python\").version\n",
    "\n",
    "!pip install -q opencv-python-headless==$version_number"
   ]
  },
  {
   "cell_type": "markdown",
   "metadata": {
    "id": "w40-VpWXU-Hu"
   },
   "source": [
    "## Clone TensorFlow Model Garden repository"
   ]
  },
  {
   "cell_type": "code",
   "execution_count": 5,
   "metadata": {
    "colab": {
     "base_uri": "https://localhost:8080/"
    },
    "executionInfo": {
     "elapsed": 27767,
     "status": "ok",
     "timestamp": 1741617600844,
     "user": {
      "displayName": "Eric Michel",
      "userId": "07377475876706265937"
     },
     "user_tz": 420
    },
    "id": "Vh42KtozpqeT",
    "outputId": "48e2b55c-c130-41f1-c0e4-7687ebcf2586"
   },
   "outputs": [
    {
     "name": "stdout",
     "output_type": "stream",
     "text": [
      "fatal: destination path 'models' already exists and is not an empty directory.\n"
     ]
    }
   ],
   "source": [
    "# clone the Model Garden directory for Tensorflow where all the config files and scripts are located for this project.\n",
    "# project folder name is - 'waste_identification_ml'\n",
    "!git clone https://github.com/tensorflow/models.git"
   ]
  },
  {
   "cell_type": "code",
   "execution_count": 6,
   "metadata": {
    "colab": {
     "base_uri": "https://localhost:8080/"
    },
    "executionInfo": {
     "elapsed": 7,
     "status": "ok",
     "timestamp": 1741617603533,
     "user": {
      "displayName": "Eric Michel",
      "userId": "07377475876706265937"
     },
     "user_tz": 420
    },
    "id": "wm-k6-S4pr_B",
    "outputId": "4f68d59f-8318-4761-9aca-1272d9812790"
   },
   "outputs": [
    {
     "name": "stdout",
     "output_type": "stream",
     "text": [
      "/Users/oysterable/delete/recyclables-detector/pre_processing/models\n"
     ]
    },
    {
     "name": "stderr",
     "output_type": "stream",
     "text": [
      "/opt/anaconda3/envs/ipykernel_py3/lib/python3.12/site-packages/IPython/core/magics/osm.py:417: UserWarning: using dhist requires you to install the `pickleshare` library.\n",
      "  self.shell.db['dhist'] = compress_dhist(dhist)[-100:]\n"
     ]
    }
   ],
   "source": [
    "# Go to the model folder\n",
    "%cd models"
   ]
  },
  {
   "cell_type": "markdown",
   "metadata": {
    "id": "xNe2NuqjV4uW"
   },
   "source": [
    "## Create TFRecord for training data"
   ]
  },
  {
   "cell_type": "code",
   "execution_count": 7,
   "metadata": {
    "executionInfo": {
     "elapsed": 33,
     "status": "ok",
     "timestamp": 1741616868433,
     "user": {
      "displayName": "Eric Michel",
      "userId": "07377475876706265937"
     },
     "user_tz": 420
    },
    "id": "J9Nz75g0oJkI"
   },
   "outputs": [],
   "source": [
    "# training_images_folder = '/mydrive/rc40cocodataset_splitted/train/images/'  #@param {type:\"string\"}\n",
    "# training_annotation_file = '/mydrive/rc40cocodataset_splitted/train/coco_train.json'  #@param {type:\"string\"}\n",
    "# output_folder = '/mydrive/rc40tfrecords/train/'  #@param {type:\"string\"}\n",
    "\n",
    "training_images_folder = '../../rc40cocodataset_splitted/train/images/'  #@param {type:\"string\"}\n",
    "training_annotation_file = '../../rc40cocodataset_splitted/train/coco_train.json'  #@param {type:\"string\"}\n",
    "output_folder = '../../rc40tfrecords/train/'  #@param {type:\"string\"}"
   ]
  },
  {
   "cell_type": "code",
   "execution_count": 8,
   "metadata": {
    "colab": {
     "base_uri": "https://localhost:8080/"
    },
    "executionInfo": {
     "elapsed": 363163,
     "status": "ok",
     "timestamp": 1741617231564,
     "user": {
      "displayName": "Eric Michel",
      "userId": "07377475876706265937"
     },
     "user_tz": 420
    },
    "id": "mjsai7PDAxgp",
    "outputId": "fba2a93c-40e2-4a7a-aee2-bdd7b3623f97"
   },
   "outputs": [
    {
     "name": "stdout",
     "output_type": "stream",
     "text": [
      "2025-04-30 18:28:53.339949: I tensorflow/core/platform/cpu_feature_guard.cc:210] This TensorFlow binary is optimized to use available CPU instructions in performance-critical operations.\n",
      "To enable the following instructions: AVX2 FMA, in other operations, rebuild TensorFlow with the appropriate compiler flags.\n",
      "I0430 18:29:00.090511 140704509742016 create_coco_tf_record.py:502] writing to output path: ../../rc40tfrecords/train/\n",
      "I0430 18:29:00.098459 140704509742016 create_coco_tf_record.py:374] Building bounding box index.\n",
      "I0430 18:29:00.098671 140704509742016 create_coco_tf_record.py:385] 0 images are missing bboxes.\n",
      "I0430 18:29:00.158688 140704509742016 tfrecord_lib.py:168] On image 0\n",
      "I0430 18:29:03.573285 140704509742016 tfrecord_lib.py:168] On image 100\n",
      "I0430 18:29:06.901711 140704509742016 tfrecord_lib.py:168] On image 200\n",
      "I0430 18:29:10.281229 140704509742016 tfrecord_lib.py:168] On image 300\n",
      "I0430 18:29:12.334167 140704509742016 tfrecord_lib.py:180] Finished writing, skipped 0 annotations.\n",
      "I0430 18:29:12.334717 140704509742016 create_coco_tf_record.py:537] Finished writing, skipped 0 annotations.\n"
     ]
    }
   ],
   "source": [
    "# TensorFlow Model Garden to convert COCO annotations json file to TFRecord files.\n",
    "\n",
    "# --num_shards (how many TFRecord sharded files you want)\n",
    "!python3 -m official.vision.data.create_coco_tf_record \\\n",
    "      --logtostderr \\\n",
    "      --image_dir=$training_images_folder \\\n",
    "      --object_annotations_file=$training_annotation_file \\\n",
    "      --output_file_prefix=$output_folder \\\n",
    "      --num_shards=100 \\\n",
    "      --include_masks=True \\\n",
    "      --num_processes=0"
   ]
  },
  {
   "cell_type": "markdown",
   "metadata": {
    "id": "zwazp89SojMA"
   },
   "source": [
    "## Create TFRecord for validation data"
   ]
  },
  {
   "cell_type": "code",
   "execution_count": 9,
   "metadata": {
    "executionInfo": {
     "elapsed": 7,
     "status": "ok",
     "timestamp": 1741617709497,
     "user": {
      "displayName": "Eric Michel",
      "userId": "07377475876706265937"
     },
     "user_tz": 420
    },
    "id": "OVQn5DiFBUfv"
   },
   "outputs": [],
   "source": [
    "# validation_images_folder = '/mydrive/rc40cocodataset_splitted/val/images/'  #@param {type:\"string\"}\n",
    "# validation_annotation_file = '/mydrive/rc40cocodataset_splitted/val/coco_val.json'  #@param {type:\"string\"}\n",
    "# output_folder = '/mydrive/rc40tfrecords/val/'  #@param {type:\"string\"}\n",
    "\n",
    "validation_images_folder = '../../rc40cocodataset_splitted/val/images/'  #@param {type:\"string\"}\n",
    "validation_annotation_file = '../../rc40cocodataset_splitted/val/coco_val.json'  #@param {type:\"string\"}\n",
    "output_folder = '../../rc40tfrecords/val/'  #@param {type:\"string\"}\n"
   ]
  },
  {
   "cell_type": "code",
   "execution_count": 10,
   "metadata": {
    "colab": {
     "base_uri": "https://localhost:8080/"
    },
    "executionInfo": {
     "elapsed": 88076,
     "status": "ok",
     "timestamp": 1741617800773,
     "user": {
      "displayName": "Eric Michel",
      "userId": "07377475876706265937"
     },
     "user_tz": 420
    },
    "id": "nWbKeLoVwXbi",
    "outputId": "4af422e0-d8fa-4334-b248-ae8fbd665387"
   },
   "outputs": [
    {
     "name": "stdout",
     "output_type": "stream",
     "text": [
      "2025-04-30 18:29:27.998611: I tensorflow/core/platform/cpu_feature_guard.cc:210] This TensorFlow binary is optimized to use available CPU instructions in performance-critical operations.\n",
      "To enable the following instructions: AVX2 FMA, in other operations, rebuild TensorFlow with the appropriate compiler flags.\n",
      "I0430 18:29:33.701936 140704509742016 create_coco_tf_record.py:502] writing to output path: ../../rc40tfrecords/val/\n",
      "I0430 18:29:33.704122 140704509742016 create_coco_tf_record.py:374] Building bounding box index.\n",
      "I0430 18:29:33.704246 140704509742016 create_coco_tf_record.py:385] 0 images are missing bboxes.\n",
      "I0430 18:29:33.762863 140704509742016 tfrecord_lib.py:168] On image 0\n",
      "I0430 18:29:35.235285 140704509742016 tfrecord_lib.py:180] Finished writing, skipped 0 annotations.\n",
      "I0430 18:29:35.235805 140704509742016 create_coco_tf_record.py:537] Finished writing, skipped 0 annotations.\n"
     ]
    }
   ],
   "source": [
    "# run the script to convert your json file to TFRecord file\n",
    "# --num_shards (how many TFRecord sharded files you want)\n",
    "!python3 -m official.vision.data.create_coco_tf_record --logtostderr \\\n",
    "      --image_dir=$validation_images_folder \\\n",
    "      --object_annotations_file=$validation_annotation_file \\\n",
    "      --output_file_prefix=$output_folder \\\n",
    "      --num_shards=100 \\\n",
    "      --include_masks=True \\\n",
    "      --num_processes=0"
   ]
  },
  {
   "cell_type": "code",
   "execution_count": null,
   "metadata": {},
   "outputs": [],
   "source": []
  }
 ],
 "metadata": {
  "colab": {
   "machine_shape": "hm",
   "provenance": []
  },
  "kernelspec": {
   "display_name": "ipykernel_py3",
   "language": "python",
   "name": "python3"
  },
  "language_info": {
   "codemirror_mode": {
    "name": "ipython",
    "version": 3
   },
   "file_extension": ".py",
   "mimetype": "text/x-python",
   "name": "python",
   "nbconvert_exporter": "python",
   "pygments_lexer": "ipython3",
   "version": "3.12.2"
  }
 },
 "nbformat": 4,
 "nbformat_minor": 0
}
