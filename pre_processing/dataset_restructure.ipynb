{
 "cells": [
  {
   "cell_type": "markdown",
   "id": "345c5c3b",
   "metadata": {},
   "source": [
    "# Reorganize COCO Dataset into Category Folders\n",
    "\n",
    "This notebook reads a COCO-format annotations JSON and reorganizes all images into subfolders named after each category.\n",
    "\n",
    "**Instructions:**\n",
    "- Update the `dataset_dir` to point to your `rc40cocodataset` folder.\n",
    "- (Optional) Set `output_dir` to a separate location, otherwise images will be copied into subfolders of `dataset_dir`.\n"
   ]
  },
  {
   "cell_type": "code",
   "execution_count": null,
   "id": "eb60c8b0",
   "metadata": {},
   "outputs": [
    {
     "ename": "",
     "evalue": "",
     "output_type": "error",
     "traceback": [
      "\u001b[1;31mFailed to start the Kernel 'ipykernel_py3 (Python 3.12.2)'. \n",
      "\u001b[1;31mView Jupyter <a href='command:jupyter.viewOutput'>log</a> for further details. WebSocket is not defined"
     ]
    }
   ],
   "source": [
    "import os\n",
    "import json\n",
    "import shutil\n",
    "import argparse\n"
   ]
  },
  {
   "cell_type": "code",
   "execution_count": null,
   "id": "043e15dc",
   "metadata": {},
   "outputs": [],
   "source": [
    "# Path to the root of your COCO dataset\n",
    "# e.g., \"/home/user/data/rc40cocodataset\"\n",
    "dataset_dir = \".././rc40cocodataset\"\n",
    "\n",
    "coco_file=\"fixed_coco.json\"\n",
    "\n",
    "# Optional: separate output directory\n",
    "# If left as None, category folders will be created under dataset_dir\n",
    "out_root = \".././rc40-pet-can-v1\" "
   ]
  },
  {
   "cell_type": "code",
   "execution_count": null,
   "id": "90349a21",
   "metadata": {},
   "outputs": [],
   "source": [
    "ann_path = os.path.join(dataset_dir, \"annotations\", coco_file)\n",
    "img_dir = os.path.join(dataset_dir, \"images\")\n",
    "\n",
    "if not os.path.isfile(ann_path):\n",
    "    raise FileNotFoundError(f\"Annotation file not found: {ann_path}\")\n",
    "if not os.path.isdir(img_dir):\n",
    "    raise NotADirectoryError(f\"Images folder not found: {img_dir}\")\n",
    "\n",
    "# Load COCO annotations\n",
    "with open(ann_path, 'r', encoding='utf-8') as f:\n",
    "    coco = json.load(f)"
   ]
  },
  {
   "cell_type": "code",
   "execution_count": null,
   "id": "3109ea53",
   "metadata": {},
   "outputs": [],
   "source": [
    "# Build mappings: category_id -> name, image_id -> filename\n",
    "cat_map = {c['id']: c['name'] for c in coco.get('categories', [])}\n",
    "img_map = {img['id']: img['file_name'] for img in coco.get('images', [])}\n",
    "\n",
    "# %%\n",
    "# Create subfolders for each category\n",
    "for cat_id, cat_name in cat_map.items():\n",
    "    folder = os.path.join(out_root, cat_name)\n",
    "    os.makedirs(folder, exist_ok=True)\n"
   ]
  },
  {
   "cell_type": "code",
   "execution_count": null,
   "id": "55b80103",
   "metadata": {},
   "outputs": [],
   "source": [
    "# %%\n",
    "# Copy images into their category folders\n",
    "copied = 0\n",
    "\n",
    "for ann in coco.get('annotations', []):\n",
    "    img_id = ann['image_id']\n",
    "    cat_id = ann['category_id']\n",
    "    file_name = img_map.get(img_id)\n",
    "    cat_name = cat_map.get(cat_id)\n",
    "\n",
    "    if not file_name or not cat_name:\n",
    "        continue\n",
    "\n",
    "    src = os.path.join(img_dir, file_name)\n",
    "    dst = os.path.join(out_root, cat_name, file_name)\n",
    "\n",
    "    if os.path.isfile(src) and not os.path.exists(dst):\n",
    "        shutil.copy2(src, dst)\n",
    "        copied += 1\n",
    "\n",
    "print(f\"✅ Completed: {copied} images copied into {len(cat_map)} category folders.\")\n"
   ]
  }
 ],
 "metadata": {
  "kernelspec": {
   "display_name": "ipykernel_py3",
   "language": "python",
   "name": "python3"
  },
  "language_info": {
   "name": "python",
   "version": "3.12.2"
  }
 },
 "nbformat": 4,
 "nbformat_minor": 5
}
